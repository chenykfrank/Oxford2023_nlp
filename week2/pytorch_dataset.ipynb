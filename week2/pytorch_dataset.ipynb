{
  "cells": [
    {
      "cell_type": "markdown",
      "metadata": {
        "id": "xaKV2IbC0Io4"
      },
      "source": [
        "# Making a PyTorch Dataset"
      ]
    },
    {
      "cell_type": "code",
      "execution_count": 3,
      "metadata": {
        "id": "f0705718",
        "outputId": "2290a04a-dcad-43c0-daf3-1bdc905d10c2",
        "colab": {
          "base_uri": "https://localhost:8080/"
        }
      },
      "outputs": [
        {
          "output_type": "stream",
          "name": "stdout",
          "text": [
            "Downloading BostonHousing.csv...\n"
          ]
        }
      ],
      "source": [
        "#@title # Run the following cell to install the necessary libraries for this practical. { display-mode: \"form\" } \n",
        "#@markdown Don't worry about what's in this collapsed cell\n",
        "\n",
        "!pip install -q torch\n",
        "!pip install -q pandas\n",
        "print('Downloading BostonHousing.csv...')\n",
        "!wget https://s3-eu-west-1.amazonaws.com/aicore-portal-public-prod-307050600709/practicals_files/de5ba7fa-5835-4f4b-87c9-58d0d0bf086a/BostonHousing.csv -q\n"
      ]
    },
    {
      "cell_type": "markdown",
      "metadata": {
        "id": "5SHymW750Io9"
      },
      "source": [
        "#### 1. Import `torch` and `pandas`.\n"
      ]
    },
    {
      "cell_type": "code",
      "execution_count": 2,
      "metadata": {
        "id": "M7VDyg6D0Io-"
      },
      "outputs": [],
      "source": [
        "# Run this cell to import the relevant dependencies\n",
        "import torch\n",
        "from numpy import genfromtxt\n",
        "import numpy as np"
      ]
    },
    {
      "cell_type": "markdown",
      "metadata": {
        "id": "akwm1kJz0Io-"
      },
      "source": [
        "#### 2. Define a class called `BostonHousingDataset` that inherits from `torch.utils.data.Dataset`.\n",
        "\n",
        "#### 3. Inside the class constructor, read in the dataset csv file using `numpy.genfromtxt`.\n",
        "You will need to add an argument to set the delimiter to comma, and a second argument to set the skip_header parameter. View the docs to determine how to do this.\n",
        "\n",
        "#### 4. Assign two attributes, `self.X` and `self.Y`, and assign them to your features and labels.\n",
        "The labels are in the final column of the data, all the other columns are features. Convert the data to torch tensor format as you assign them, and set the datatype to float32. You can look at the docs for `torch.tensor()` for help.\n",
        "\n",
        "#### 5. Now define the second crucial method of the dataset class: `__getitem__`.\n",
        "This needs to take in an index of your dataset and return the features and label corresponding to that index.\n",
        "\n",
        "#### 6. Finally, define the `__len__` method, which defines how your dataset responds to the len() method in python.\n",
        "It should print the number of rows in your dataset when called.\n",
        "\n",
        "\n"
      ]
    },
    {
      "cell_type": "code",
      "source": [
        "data = genfromtxt('BostonHousing.csv', delimiter = ',', skip_header=1)\n",
        "print(data)\n",
        "# X = data[:,-1]\n",
        "# print(X)"
      ],
      "metadata": {
        "id": "i7U2QrJo28zp",
        "outputId": "a9af5777-88c5-4c41-81af-8f1391b593c9",
        "colab": {
          "base_uri": "https://localhost:8080/"
        }
      },
      "execution_count": 13,
      "outputs": [
        {
          "output_type": "stream",
          "name": "stdout",
          "text": [
            "[[6.3200e-03 1.8000e+01 2.3100e+00 ... 3.9690e+02 4.9800e+00 2.4000e+01]\n",
            " [2.7310e-02 0.0000e+00 7.0700e+00 ... 3.9690e+02 9.1400e+00 2.1600e+01]\n",
            " [2.7290e-02 0.0000e+00 7.0700e+00 ... 3.9283e+02 4.0300e+00 3.4700e+01]\n",
            " ...\n",
            " [6.0760e-02 0.0000e+00 1.1930e+01 ... 3.9690e+02 5.6400e+00 2.3900e+01]\n",
            " [1.0959e-01 0.0000e+00 1.1930e+01 ... 3.9345e+02 6.4800e+00 2.2000e+01]\n",
            " [4.7410e-02 0.0000e+00 1.1930e+01 ... 3.9690e+02 7.8800e+00 1.1900e+01]]\n"
          ]
        }
      ]
    },
    {
      "cell_type": "code",
      "execution_count": 24,
      "metadata": {
        "id": "2Vcdq1Bj0Io_",
        "outputId": "89a02d52-f297-427e-e90b-a7792b936934",
        "colab": {
          "base_uri": "https://localhost:8080/"
        }
      },
      "outputs": [
        {
          "output_type": "stream",
          "name": "stdout",
          "text": [
            "shape of fature,  torch.Size([506, 13])\n",
            "shape of label,  torch.Size([506])\n",
            "len of fature,  506\n",
            "len of label,  506\n",
            "(tensor([6.3200e-03, 1.8000e+01, 2.3100e+00,        nan, 5.3800e-01, 6.5750e+00,\n",
            "        6.5200e+01, 4.0900e+00, 1.0000e+00, 2.9600e+02, 1.5300e+01, 3.9690e+02,\n",
            "        4.9800e+00], dtype=torch.float64), tensor(24., dtype=torch.float64))\n"
          ]
        },
        {
          "output_type": "execute_result",
          "data": {
            "text/plain": [
              "(tensor([6.3200e-03, 1.8000e+01, 2.3100e+00,        nan, 5.3800e-01, 6.5750e+00,\n",
              "         6.5200e+01, 4.0900e+00, 1.0000e+00, 2.9600e+02, 1.5300e+01, 3.9690e+02,\n",
              "         4.9800e+00], dtype=torch.float64), tensor(24., dtype=torch.float64))"
            ]
          },
          "metadata": {},
          "execution_count": 24
        }
      ],
      "source": [
        "class BostonHousingDataset(torch.utils.data.Dataset):\n",
        "    \n",
        "    def __init__(self):\n",
        "        #TODO - Read in 'BostonHousing.csv' using the `genfromtxt` method\n",
        "        data = genfromtxt('BostonHousing.csv', delimiter = ',', skip_header=1)\n",
        "        #TODO - Select features and assign to `self.X`, converting to torch tensor of dtype float32\n",
        "        self.X = torch.from_numpy(data[:,:-1])\n",
        "        self.X.to(torch.float32)\n",
        "        #TODO - Select labels and assign to `self.y`, converting to torch tensor of dtype float32\n",
        "        self.y = torch.from_numpy(data[:,-1])\n",
        "        self.y.to(torch.float32)\n",
        "    \n",
        "    def __len__(self):\n",
        "        #TODO - define the __len__ method.\n",
        "        return len(self.X)\n",
        "\n",
        "    def __getitem__(self,idx):\n",
        "        #TODO - Define the __getitem__ method so that it returns the features and labels associated with a given index\n",
        "        return self.X[idx], self.y[idx]\n",
        "\n",
        "#TODO - Create an instance of the `BostonHousingDataset` class\n",
        "dataset = BostonHousingDataset()\n",
        "#TODO - Confirm correct feature and label slicing, and data type, by printing their shape.\n",
        "# print('shape of dataset, ' , (dataset))\n",
        "print('shape of fature, ' , dataset.X.shape)\n",
        "print('shape of label, ' , dataset.y.shape)\n",
        "#TODO - Confirm that len method works\n",
        "print('len of fature, ' , len(dataset.X))\n",
        "print('len of label, ' , len(dataset.y))\n",
        "#TODO - Confirm that __getitem__ method works, and that the features have a batch dimension.\n",
        "print(dataset[0])\n",
        "dataset.__getitem__(0)\n"
      ]
    },
    {
      "cell_type": "markdown",
      "metadata": {
        "id": "UnFxYZGl0IpA"
      },
      "source": [
        "\n",
        "#### 7. Finally, let's load our data into a dataloader as if we were going to perform minibatch optimisation. \n",
        "\n",
        "Create an instance of your BostonHousingDatset class, and pass it as an argument to an instance of the `DataLoader` class (found in `torch.utils.data`). Specify a batch size of 4 and set shuffle to `True`, and call the instance `train_loader`."
      ]
    },
    {
      "cell_type": "code",
      "execution_count": null,
      "metadata": {
        "id": "4cNpellM0IpB"
      },
      "outputs": [],
      "source": [
        "# TODO - Create an instance of the `Dataloader` class, passing arguments to dataset, batch size and shuffle parameters.\n",
        "class Dataloader()\n",
        "\n",
        "\n",
        "\n"
      ]
    },
    {
      "cell_type": "markdown",
      "metadata": {
        "id": "7ZoGtSCH0IpB"
      },
      "source": [
        "#### 8. We can now test our dataloader by running the command `next(iter(train_loader)`\n",
        "\n",
        "Print the result."
      ]
    },
    {
      "cell_type": "code",
      "execution_count": null,
      "metadata": {
        "id": "5gLmR1Km0IpC"
      },
      "outputs": [],
      "source": [
        "# TODO - Get an example output from the dataloader.\n",
        "# TODO - Confirm that features have dimensionality = batch_size x 1 x n_features\n",
        "# TODO - Confirm labels have dimensionality =  batch_size"
      ]
    }
  ],
  "metadata": {
    "kernelspec": {
      "display_name": "huggingface1",
      "language": "python",
      "name": "python3"
    },
    "language_info": {
      "codemirror_mode": {
        "name": "ipython",
        "version": 3
      },
      "file_extension": ".py",
      "mimetype": "text/x-python",
      "name": "python",
      "nbconvert_exporter": "python",
      "pygments_lexer": "ipython3",
      "version": "3.10.8"
    },
    "vscode": {
      "interpreter": {
        "hash": "e36d4b688d7e3685ae8ad6703c0e99019531dd9f05b6e8f8c82292a1f759bcdc"
      }
    },
    "colab": {
      "provenance": []
    }
  },
  "nbformat": 4,
  "nbformat_minor": 0
}