{
  "nbformat": 4,
  "nbformat_minor": 0,
  "metadata": {
    "colab": {
      "provenance": []
    },
    "kernelspec": {
      "name": "python3",
      "display_name": "Python 3"
    },
    "language_info": {
      "name": "python"
    }
  },
  "cells": [
    {
      "cell_type": "markdown",
      "source": [
        "Create a variable called x and assign it a value of 1.0. Then convert it to a torch tensor, setting requires_grad to True."
      ],
      "metadata": {
        "id": "OLz3WuXnIB1C"
      }
    },
    {
      "cell_type": "code",
      "execution_count": 14,
      "metadata": {
        "id": "n7Ddkk1SHzEV"
      },
      "outputs": [],
      "source": [
        "import torch\n",
        "\n",
        "x = torch.tensor(1.0)\n",
        "x.requires_grad = True"
      ]
    },
    {
      "cell_type": "markdown",
      "source": [
        "\n",
        "Define a function called quadratic_function that takes in a value of x, and applies a quadratic function to it, for example (3 * x^2 + 2x + 10). "
      ],
      "metadata": {
        "id": "5t_NpliDIHJZ"
      }
    },
    {
      "cell_type": "code",
      "source": [
        "def quadratic_function(x):\n",
        "  return 3 * x ** 2 + 2 * x + 1"
      ],
      "metadata": {
        "id": "TT3MLheRIQsw"
      },
      "execution_count": 15,
      "outputs": []
    },
    {
      "cell_type": "markdown",
      "source": [
        "Apply it to x, and assign the output to a variable called y.\n"
      ],
      "metadata": {
        "id": "8vyrYo5rINcM"
      }
    },
    {
      "cell_type": "code",
      "source": [
        "y = quadratic_function(x)\n",
        "\n",
        "y.requires_grad"
      ],
      "metadata": {
        "colab": {
          "base_uri": "https://localhost:8080/"
        },
        "id": "610NfoZcIRId",
        "outputId": "41398e98-7cb3-482b-ea4b-2897af2d53a3"
      },
      "execution_count": 16,
      "outputs": [
        {
          "output_type": "execute_result",
          "data": {
            "text/plain": [
              "True"
            ]
          },
          "metadata": {},
          "execution_count": 16
        }
      ]
    },
    {
      "cell_type": "markdown",
      "source": [
        "Now call the torch.backward() method on y, and print the grad of x."
      ],
      "metadata": {
        "id": "bxh7MaNHIP-h"
      }
    },
    {
      "cell_type": "code",
      "source": [
        "y.backward()"
      ],
      "metadata": {
        "id": "zgIazOGWKSLb"
      },
      "execution_count": null,
      "outputs": []
    },
    {
      "cell_type": "code",
      "source": [
        "print(x.grad) #gradient of y is 6x+2, which equals to 8"
      ],
      "metadata": {
        "colab": {
          "base_uri": "https://localhost:8080/"
        },
        "id": "01rgVhW6IRq0",
        "outputId": "57dc1fa1-19be-41be-80d1-7714c0d16515"
      },
      "execution_count": 25,
      "outputs": [
        {
          "output_type": "stream",
          "name": "stdout",
          "text": [
            "tensor(8.)\n"
          ]
        }
      ]
    }
  ]
}